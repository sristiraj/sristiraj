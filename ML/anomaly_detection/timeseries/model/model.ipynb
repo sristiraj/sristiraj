{
 "cells": [
  {
   "cell_type": "markdown",
   "metadata": {},
   "source": [
    "### Tag anomaly record using 3 sigma rule"
   ]
  },
  {
   "cell_type": "code",
   "execution_count": 1,
   "metadata": {},
   "outputs": [
    {
     "name": "stdout",
     "output_type": "stream",
     "text": [
      "Filename: /Users/sristiraj/Downloads/sristiraj/ML/anomaly_detection/timeseries/input_data/Electric_Production.csv\n"
     ]
    }
   ],
   "source": [
    "import os\n",
    "parent_dir = os.path.dirname(os.path.abspath('./'))\n",
    "filename = f\"{parent_dir}/input_data/Electric_Production.csv\"\n",
    "print(f\"Filename: {filename}\")"
   ]
  },
  {
   "cell_type": "markdown",
   "metadata": {},
   "source": [
    "### Read data using duckdb"
   ]
  },
  {
   "cell_type": "code",
   "execution_count": 2,
   "metadata": {},
   "outputs": [],
   "source": [
    "import duckdb\n",
    "\n",
    "elec_df = duckdb.read_csv(filename)"
   ]
  },
  {
   "cell_type": "code",
   "execution_count": 5,
   "metadata": {},
   "outputs": [],
   "source": [
    "query_str = '''\n",
    "    select * \n",
    "    from (\n",
    "        select *, \n",
    "            avg(IPG2211A2N) over(order by period ROWS between 11 PRECEDING AND CURRENT ROW) roll_avg, \n",
    "            stddev(IPG2211A2N) over(order by period ROWS between 11 PRECEDING AND CURRENT ROW) roll_std,\n",
    "            row_number() over (order by period) rn\n",
    "            from \n",
    "                (select \n",
    "                    year(date)*100+month(date) period,\n",
    "                    sum(IPG2211A2N) IPG2211A2N\n",
    "                    from\n",
    "                    elec_df\n",
    "                    group by year(date)*100+month(date)\n",
    "                ) k\n",
    "        )\n",
    "    where rn >= 12\n",
    "    and abs(IPG2211A2N-roll_avg) >= 3*roll_std -- 3 sigma rule\n",
    "'''"
   ]
  },
  {
   "cell_type": "code",
   "execution_count": 6,
   "metadata": {},
   "outputs": [
    {
     "data": {
      "text/plain": [
       "┌────────┬────────────┬────────────────────┬────────────────────┬───────┐\n",
       "│ period │ IPG2211A2N │      roll_avg      │      roll_std      │  rn   │\n",
       "│ int64  │   double   │       double       │       double       │ int64 │\n",
       "├────────┼────────────┼────────────────────┼────────────────────┼───────┤\n",
       "│ 201801 │   129.4048 │ 1131.9812833333333 │ 316.13076686143324 │    34 │\n",
       "└────────┴────────────┴────────────────────┴────────────────────┴───────┘"
      ]
     },
     "execution_count": 6,
     "metadata": {},
     "output_type": "execute_result"
    }
   ],
   "source": [
    "duckdb.sql(query_str)\n"
   ]
  }
 ],
 "metadata": {
  "kernelspec": {
   "display_name": "venv",
   "language": "python",
   "name": "python3"
  },
  "language_info": {
   "codemirror_mode": {
    "name": "ipython",
    "version": 3
   },
   "file_extension": ".py",
   "mimetype": "text/x-python",
   "name": "python",
   "nbconvert_exporter": "python",
   "pygments_lexer": "ipython3",
   "version": "3.10.10"
  }
 },
 "nbformat": 4,
 "nbformat_minor": 2
}
