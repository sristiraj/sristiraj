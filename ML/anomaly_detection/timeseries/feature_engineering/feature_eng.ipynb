{
 "cells": [
  {
   "cell_type": "code",
   "execution_count": 3,
   "metadata": {},
   "outputs": [
    {
     "name": "stdout",
     "output_type": "stream",
     "text": [
      "Filename: /Users/sristiraj/Downloads/sristiraj/ML/anomaly_detection/timeseries/input_data/Electric_Production.csv\n"
     ]
    }
   ],
   "source": [
    "import os\n",
    "parent_dir = os.path.dirname(os.path.abspath('./'))\n",
    "filename = f\"{parent_dir}/input_data/Electric_Production.csv\"\n",
    "print(f\"Filename: {filename}\")"
   ]
  },
  {
   "cell_type": "markdown",
   "metadata": {},
   "source": [
    "### Read data using duckdb"
   ]
  },
  {
   "cell_type": "code",
   "execution_count": 4,
   "metadata": {},
   "outputs": [],
   "source": [
    "import duckdb\n",
    "\n",
    "elec_df = duckdb.read_csv(filename)"
   ]
  },
  {
   "cell_type": "markdown",
   "metadata": {},
   "source": [
    "### Show data"
   ]
  },
  {
   "cell_type": "code",
   "execution_count": 5,
   "metadata": {},
   "outputs": [
    {
     "data": {
      "text/plain": [
       "┌────────────┬────────────┐\n",
       "│    DATE    │ IPG2211A2N │\n",
       "│    date    │   double   │\n",
       "├────────────┼────────────┤\n",
       "│ 1985-01-01 │    72.5052 │\n",
       "│ 1985-01-02 │     70.672 │\n",
       "│ 1985-01-03 │    62.4502 │\n",
       "│ 1985-01-04 │    57.4714 │\n",
       "│ 1985-01-05 │    55.3151 │\n",
       "│ 1985-01-06 │    58.0904 │\n",
       "│ 1985-01-07 │    62.6202 │\n",
       "│ 1985-01-08 │    63.2485 │\n",
       "│ 1985-01-09 │    60.5846 │\n",
       "│ 1985-01-10 │    56.3154 │\n",
       "│     ·      │        ·   │\n",
       "│     ·      │        ·   │\n",
       "│     ·      │        ·   │\n",
       "│ 2017-01-04 │     88.353 │\n",
       "│ 2017-01-05 │    92.0805 │\n",
       "│ 2017-01-06 │   102.1532 │\n",
       "│ 2017-01-07 │   112.1538 │\n",
       "│ 2017-01-08 │   108.9312 │\n",
       "│ 2017-01-09 │    98.6154 │\n",
       "│ 2017-01-10 │    93.6137 │\n",
       "│ 2017-01-11 │    97.3359 │\n",
       "│ 2017-01-12 │   114.7212 │\n",
       "│ 2018-01-01 │   129.4048 │\n",
       "├────────────┴────────────┤\n",
       "│   397 rows (20 shown)   │\n",
       "└─────────────────────────┘"
      ]
     },
     "execution_count": 5,
     "metadata": {},
     "output_type": "execute_result"
    }
   ],
   "source": [
    "duckdb.sql(\"select * from elec_df\")"
   ]
  },
  {
   "cell_type": "markdown",
   "metadata": {},
   "source": [
    "# Time series data feature engineering"
   ]
  },
  {
   "cell_type": "markdown",
   "metadata": {},
   "source": [
    "### Add rolling avg and rolling std"
   ]
  },
  {
   "cell_type": "code",
   "execution_count": 6,
   "metadata": {},
   "outputs": [],
   "source": [
    "query_str = '''\n",
    "    select * \n",
    "    from (\n",
    "        select *, \n",
    "            avg(IPG2211A2N) over(order by period ROWS between 11 PRECEDING AND CURRENT ROW) roll_avg, \n",
    "            stddev(IPG2211A2N) over(order by period ROWS between 11 PRECEDING AND CURRENT ROW) roll_std,\n",
    "            row_number() over (order by period) rn\n",
    "            from \n",
    "                (select \n",
    "                    year(date)*100+month(date) period,\n",
    "                    sum(IPG2211A2N) IPG2211A2N\n",
    "                    from\n",
    "                    elec_df\n",
    "                    group by year(date)*100+month(date)\n",
    "                ) k\n",
    "        )\n",
    "            where rn >= 12\n",
    "'''"
   ]
  },
  {
   "cell_type": "code",
   "execution_count": 7,
   "metadata": {},
   "outputs": [
    {
     "data": {
      "text/plain": [
       "┌────────┬────────────────────┬────────────────────┬────────────────────┬───────┐\n",
       "│ period │     IPG2211A2N     │      roll_avg      │      roll_std      │  rn   │\n",
       "│ int64  │       double       │       double       │       double       │ int64 │\n",
       "├────────┼────────────────────┼────────────────────┼────────────────────┼───────┤\n",
       "│ 199601 │           1012.589 │  879.1508833333334 │  86.29707282619029 │    12 │\n",
       "│ 199701 │ 1010.8342999999999 │  901.2214083333333 │  82.94680902630492 │    13 │\n",
       "│ 199801 │          1038.5289 │  925.0555916666667 │  77.22807818652794 │    14 │\n",
       "│ 199901 │          1070.2907 │  948.5062083333333 │  74.80708721560178 │    15 │\n",
       "│ 200001 │ 1101.4814999999999 │         970.579975 │  77.80377500398758 │    16 │\n",
       "│ 200101 │          1097.5295 │           990.1456 │  77.74146566403758 │    17 │\n",
       "│ 200201 │          1129.2849 │ 1010.9392416666668 │  78.89441330348318 │    18 │\n",
       "│ 200301 │          1148.4013 │          1031.5275 │  79.92348745704456 │    19 │\n",
       "│ 200401 │          1165.4307 │ 1053.5258166666665 │  77.14710634350494 │    20 │\n",
       "│ 200501 │ 1190.4988999999998 │ 1075.0550666666666 │  76.23847741592678 │    21 │\n",
       "│ 200601 │          1186.4787 │ 1094.6732333333334 │  71.57800155042978 │    22 │\n",
       "│ 200701 │ 1223.8100000000002 │ 1114.5965333333334 │  71.46718043623984 │    23 │\n",
       "│ 200801 │ 1219.9678999999999 │ 1131.8781083333333 │  69.60726889762503 │    24 │\n",
       "│ 200901 │          1185.9574 │ 1146.4716999999998 │  59.55454486570956 │    25 │\n",
       "│ 201001 │          1231.1626 │ 1162.5245083333332 │   53.4643216310137 │    26 │\n",
       "│ 201101 │ 1227.4857000000002 │ 1175.6240916666666 │  47.76501437730826 │    27 │\n",
       "│ 201201 │ 1199.9999000000003 │ 1183.8339583333332 │  41.97910279667211 │    28 │\n",
       "│ 201301 │          1228.0482 │ 1194.7105166666668 │ 33.671597380307325 │    29 │\n",
       "│ 201401 │          1244.7934 │ 1204.3362249999998 │ 29.522678381977542 │    30 │\n",
       "│ 201501 │ 1236.6348999999998 │        1211.689025 │  24.96032940710397 │    31 │\n",
       "│ 201601 │          1233.1725 │        1217.334175 │ 20.872977156693853 │    32 │\n",
       "│ 201701 │          1223.3381 │        1220.070775 │ 19.113394412349805 │    33 │\n",
       "│ 201801 │           129.4048 │ 1131.9812833333333 │ 316.13076686143324 │    34 │\n",
       "├────────┴────────────────────┴────────────────────┴────────────────────┴───────┤\n",
       "│ 23 rows                                                             5 columns │\n",
       "└───────────────────────────────────────────────────────────────────────────────┘"
      ]
     },
     "execution_count": 7,
     "metadata": {},
     "output_type": "execute_result"
    }
   ],
   "source": [
    "duckdb.sql(query_str)\n"
   ]
  },
  {
   "cell_type": "markdown",
   "metadata": {},
   "source": [
    "### Tag anomaly records using 3 sigma rule"
   ]
  },
  {
   "cell_type": "code",
   "execution_count": 8,
   "metadata": {},
   "outputs": [],
   "source": [
    "query_str = '''\n",
    "    select * \n",
    "    from (\n",
    "        select *, \n",
    "            avg(IPG2211A2N) over(order by period ROWS between 11 PRECEDING AND CURRENT ROW) roll_avg, \n",
    "            stddev(IPG2211A2N) over(order by period ROWS between 11 PRECEDING AND CURRENT ROW) roll_std,\n",
    "            row_number() over (order by period) rn\n",
    "            from \n",
    "                (select \n",
    "                    year(date)*100+month(date) period,\n",
    "                    sum(IPG2211A2N) IPG2211A2N\n",
    "                    from\n",
    "                    elec_df\n",
    "                    group by year(date)*100+month(date)\n",
    "                ) k\n",
    "        )\n",
    "    where rn >= 12\n",
    "    and abs(IPG2211A2N-roll_avg) >= 3*roll_std\n",
    "'''"
   ]
  },
  {
   "cell_type": "code",
   "execution_count": 9,
   "metadata": {},
   "outputs": [
    {
     "data": {
      "text/plain": [
       "┌────────┬────────────┬────────────────────┬────────────────────┬───────┐\n",
       "│ period │ IPG2211A2N │      roll_avg      │      roll_std      │  rn   │\n",
       "│ int64  │   double   │       double       │       double       │ int64 │\n",
       "├────────┼────────────┼────────────────────┼────────────────────┼───────┤\n",
       "│ 201801 │   129.4048 │ 1131.9812833333333 │ 316.13076686143324 │    34 │\n",
       "└────────┴────────────┴────────────────────┴────────────────────┴───────┘"
      ]
     },
     "execution_count": 9,
     "metadata": {},
     "output_type": "execute_result"
    }
   ],
   "source": [
    "duckdb.sql(query_str)"
   ]
  }
 ],
 "metadata": {
  "kernelspec": {
   "display_name": ".venv",
   "language": "python",
   "name": "python3"
  },
  "language_info": {
   "codemirror_mode": {
    "name": "ipython",
    "version": 3
   },
   "file_extension": ".py",
   "mimetype": "text/x-python",
   "name": "python",
   "nbconvert_exporter": "python",
   "pygments_lexer": "ipython3",
   "version": "3.10.10"
  }
 },
 "nbformat": 4,
 "nbformat_minor": 2
}
