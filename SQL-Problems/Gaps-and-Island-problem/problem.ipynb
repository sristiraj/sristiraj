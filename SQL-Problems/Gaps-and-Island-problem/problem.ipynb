{
 "cells": [
  {
   "cell_type": "markdown",
   "metadata": {},
   "source": [
    "**Requirements & Dependencies**\n",
    "\n",
    "> Install below library"
   ]
  },
  {
   "cell_type": "code",
   "execution_count": 1,
   "metadata": {},
   "outputs": [
    {
     "name": "stdout",
     "output_type": "stream",
     "text": [
      "Requirement already satisfied: duckdb in /Users/sristiraj/Downloads/sristiraj/venv/lib/python3.10/site-packages (0.10.3)\n"
     ]
    }
   ],
   "source": [
    "!pip install duckdb\n",
    "!pip install ipykernel"
   ]
  },
  {
   "cell_type": "markdown",
   "metadata": {},
   "source": [
    "**Introduction**\n",
    "\n",
    "Gaps and Island problem is a classic problem of finding missing values AKA gaps or islands in a sequence of values. For cases, like with finding period of inactivity between certail interval by an employee is a gaps problem while if the data reporting is done at a certain interval and find period of activity across multiple periods is an island problem. For eg: in a table with employee name, floor number the employee has worked on and the start and end time when he worked on the floor"
   ]
  },
  {
   "cell_type": "markdown",
   "metadata": {
    "vscode": {
     "languageId": "html"
    }
   },
   "source": [
    "<table>\n",
    "    <tr>\n",
    "    <b>\n",
    "        <td>name</td>\n",
    "        <td>floor_number</td>\n",
    "        <td>start_time</td>\n",
    "        <td>end_time</td>\n",
    "    </b>\n",
    "    </tr>\n",
    "    <tr>\n",
    "        <td>Mark</td>\n",
    "        <td>1</td>\n",
    "        <td>31-May-2024 11:56:00</td>\n",
    "        <td>31-May-2024 15:21:00</td>\n",
    "    </tr>\n",
    "    <tr>\n",
    "        <td>Mark</td>\n",
    "        <td>1</td>\n",
    "        <td>31-May-2024 13:26:00</td>\n",
    "        <td>31-May-2024 16:12:00</td>\n",
    "    </tr>\n",
    "    <tr>\n",
    "        <td>Mark</td>\n",
    "        <td>1</td>\n",
    "        <td>31-May-2024 17:01:00</td>\n",
    "        <td>31-May-2024 17:31:00</td>\n",
    "    </tr>\n",
    "    <tr>\n",
    "        <td>Ashok</td>\n",
    "        <td>1</td>\n",
    "        <td>31-May-2024 10:32:00</td>\n",
    "        <td>31-May-2024 11:28:00</td>\n",
    "    </tr>\n",
    "    <tr>\n",
    "        <td>Ashok</td>\n",
    "        <td>1</td>\n",
    "        <td>31-May-2024 12:29:00</td>\n",
    "        <td>31-May-2024 14:21:00</td>\n",
    "    </tr>\n",
    "</table>\n"
   ]
  },
  {
   "cell_type": "markdown",
   "metadata": {},
   "source": [
    "In the above example, this is an island problem of finding continuous periods where an employee kept working. As the inputs or \n",
    "rows in the above table has a start and end time for each employee recorded at random intervals with some start and end time \n",
    "either overlapping i.e, end time of preceeding record for the employee is greater than start time of next record for the same \n",
    "employee. Or for some employee, the end time of preceeding record can be same as start time of next record or the end time and \n",
    "start time may not overlap at all.\n",
    "\n",
    "In such cases, if the ask is the find the duration an employee has kept working on recorded floors, simply subtracting the end\n",
    "time with the start time of each record may not give correct result and we may be counting the time multiple times if there is an\n",
    "overlap between 2 records. In such scenarios, problem of finding actual duration spent can be easily solved using using the \n",
    "island problem approach."
   ]
  },
  {
   "cell_type": "markdown",
   "metadata": {},
   "source": [
    "**Solution**\n",
    "\n",
    "To solve an island problem, we can simply use SQL to get the final solution. First step in finding a solution is to get the previous end time next to start and end time in each record. We can use window functions in SQL to get this using something like below query."
   ]
  },
  {
   "cell_type": "markdown",
   "metadata": {},
   "source": []
  },
  {
   "cell_type": "code",
   "execution_count": null,
   "metadata": {
    "vscode": {
     "languageId": "sql"
    }
   },
   "outputs": [],
   "source": [
    "SELECT\n",
    "name, \n",
    "floor_number,\n",
    "start_time,\n",
    "end_time,\n",
    "ROW_NUMBER () OVER (ORDER BY name, start_time, end_time) rn,\n",
    "max(end_time) over(partition by name, floor_number order by end_time UNBOUNDED PRECEDING AND 1 PRECEEDING) prev_end_time\n",
    "from \n",
    "employee_work"
   ]
  },
  {
   "cell_type": "markdown",
   "metadata": {},
   "source": [
    "The above query finds the previous end time per record for an employee based on all records above current record(UNBOUNDED PRECEDING) up until the record just above the current record (1 PRECEDING). Once we have the previous end time, we can now find if the duration(start and end time) of current records overlaps with previous record and if it overlaps, we can consider the record as part of same island otherwise mark the current record as new island. Marking island can be as well done using integer values with island0 as 0, island1 as 1. This in SQL can again be achieved using window function."
   ]
  },
  {
   "cell_type": "code",
   "execution_count": null,
   "metadata": {
    "vscode": {
     "languageId": "sql"
    }
   },
   "outputs": [],
   "source": [
    "with ovlap as\n",
    "(SELECT\n",
    "name, \n",
    "floor_number,\n",
    "start_time,\n",
    "end_time,\n",
    "ROW_NUMBER () OVER (ORDER BY name, start_time, end_time) rn,\n",
    "max(end_time) over(partition by name, floor_number order by end_time UNBOUNDED PRECEDING AND 1 PRECEEDING) prev_end_time\n",
    "from \n",
    "employee_work) \n",
    "----CTE end---\n",
    "SELECT \n",
    "name,\n",
    "floor_number,\n",
    "start_time,\n",
    "end_time,\n",
    "prev_end_time,\n",
    "-- indicates in ordered output by displaying 1 for new island start\n",
    "CASE WHEN start_time <= prev_end_time then 0 ELSE 1 END is_new_island,\n",
    "SUM(CASE WHEN start_time <= prev_end_time then 0 ELSE 1 END) OVER(PARTITION BY name, floor order by rn) island_id\n",
    "FROM\n",
    "ovlap"
   ]
  },
  {
   "cell_type": "markdown",
   "metadata": {},
   "source": [
    "From the above query we get the new island indicator, showing if the record is start of a new island as per the problem it would be new time duration for the employee, on same floor with non overlapping time. Once we have this we can get the min and max duration within an island to find the actual time duration worked by employee on a floor from across multiple overlapping records."
   ]
  },
  {
   "cell_type": "code",
   "execution_count": null,
   "metadata": {
    "vscode": {
     "languageId": "sql"
    }
   },
   "outputs": [],
   "source": [
    "with ovlap as\n",
    "(SELECT\n",
    "name, \n",
    "floor_number,\n",
    "start_time,\n",
    "end_time,\n",
    "ROW_NUMBER () OVER (ORDER BY name, start_time, end_time) rn,\n",
    "max(end_time) over(partition by name, floor_number order by end_time UNBOUNDED PRECEDING AND 1 PRECEEDING) prev_end_time\n",
    "from \n",
    "employee_work) \n",
    "----CTE1 end---\n",
    "islands as (\n",
    "SELECT \n",
    "name,\n",
    "floor_number,\n",
    "start_time,\n",
    "end_time,\n",
    "prev_end_time,\n",
    "-- indicates in ordered output by displaying 1 for new island start\n",
    "CASE WHEN start_time <= prev_end_time then 0 ELSE 1 END is_new_island,\n",
    "SUM(CASE WHEN start_time <= prev_end_time then 0 ELSE 1 END) OVER(PARTITION BY name, floor order by rn) island_id\n",
    "FROM\n",
    "ovlap)\n",
    "---CTE end---\n",
    "SELECT \n",
    "name, \n",
    "floor_number,\n",
    "min(start_time) actual_start_time,\n",
    "max(end_time) actual_end_time\n",
    "FROM \n",
    "islands\n",
    "group by \n",
    "name,\n",
    "floor_number,\n",
    "island_id\n"
   ]
  },
  {
   "cell_type": "markdown",
   "metadata": {},
   "source": [
    "Finally this query gives the result with actual start and end time duration employee has worked on a floor with non overlapping durations as separate records. Subtracting actual end and start time on each row would give actual work duration."
   ]
  }
 ],
 "metadata": {
  "kernelspec": {
   "display_name": "venv",
   "language": "python",
   "name": "python3"
  },
  "language_info": {
   "codemirror_mode": {
    "name": "ipython",
    "version": 3
   },
   "file_extension": ".py",
   "mimetype": "text/x-python",
   "name": "python",
   "nbconvert_exporter": "python",
   "pygments_lexer": "ipython3",
   "version": "3.10.10"
  }
 },
 "nbformat": 4,
 "nbformat_minor": 2
}
