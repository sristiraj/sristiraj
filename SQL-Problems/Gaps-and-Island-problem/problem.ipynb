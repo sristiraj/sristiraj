{
 "cells": [
  {
   "cell_type": "markdown",
   "metadata": {},
   "source": [
    "**Requirements & Dependencies**\n",
    "\n",
    "> Install below library"
   ]
  },
  {
   "cell_type": "code",
   "execution_count": 7,
   "metadata": {},
   "outputs": [
    {
     "name": "stderr",
     "output_type": "stream",
     "text": [
      "5958.57s - pydevd: Sending message related to process being replaced timed-out after 5 seconds\n"
     ]
    },
    {
     "name": "stdout",
     "output_type": "stream",
     "text": [
      "Requirement already satisfied: duckdb in /Users/sristiraj/Downloads/sristiraj/venv/lib/python3.10/site-packages (0.10.3)\n"
     ]
    },
    {
     "name": "stderr",
     "output_type": "stream",
     "text": [
      "5965.31s - pydevd: Sending message related to process being replaced timed-out after 5 seconds\n"
     ]
    },
    {
     "name": "stdout",
     "output_type": "stream",
     "text": [
      "Requirement already satisfied: ipykernel in /Users/sristiraj/Downloads/sristiraj/venv/lib/python3.10/site-packages (6.29.4)\n",
      "Requirement already satisfied: appnope in /Users/sristiraj/Downloads/sristiraj/venv/lib/python3.10/site-packages (from ipykernel) (0.1.4)\n",
      "Requirement already satisfied: comm>=0.1.1 in /Users/sristiraj/Downloads/sristiraj/venv/lib/python3.10/site-packages (from ipykernel) (0.2.2)\n",
      "Requirement already satisfied: debugpy>=1.6.5 in /Users/sristiraj/Downloads/sristiraj/venv/lib/python3.10/site-packages (from ipykernel) (1.8.1)\n",
      "Requirement already satisfied: ipython>=7.23.1 in /Users/sristiraj/Downloads/sristiraj/venv/lib/python3.10/site-packages (from ipykernel) (8.25.0)\n",
      "Requirement already satisfied: jupyter-client>=6.1.12 in /Users/sristiraj/Downloads/sristiraj/venv/lib/python3.10/site-packages (from ipykernel) (8.6.2)\n",
      "Requirement already satisfied: jupyter-core!=5.0.*,>=4.12 in /Users/sristiraj/Downloads/sristiraj/venv/lib/python3.10/site-packages (from ipykernel) (5.7.2)\n",
      "Requirement already satisfied: matplotlib-inline>=0.1 in /Users/sristiraj/Downloads/sristiraj/venv/lib/python3.10/site-packages (from ipykernel) (0.1.7)\n",
      "Requirement already satisfied: nest-asyncio in /Users/sristiraj/Downloads/sristiraj/venv/lib/python3.10/site-packages (from ipykernel) (1.6.0)\n",
      "Requirement already satisfied: packaging in /Users/sristiraj/Downloads/sristiraj/venv/lib/python3.10/site-packages (from ipykernel) (24.0)\n",
      "Requirement already satisfied: psutil in /Users/sristiraj/Downloads/sristiraj/venv/lib/python3.10/site-packages (from ipykernel) (5.9.8)\n",
      "Requirement already satisfied: pyzmq>=24 in /Users/sristiraj/Downloads/sristiraj/venv/lib/python3.10/site-packages (from ipykernel) (26.0.3)\n",
      "Requirement already satisfied: tornado>=6.1 in /Users/sristiraj/Downloads/sristiraj/venv/lib/python3.10/site-packages (from ipykernel) (6.4)\n",
      "Requirement already satisfied: traitlets>=5.4.0 in /Users/sristiraj/Downloads/sristiraj/venv/lib/python3.10/site-packages (from ipykernel) (5.14.3)\n",
      "Requirement already satisfied: decorator in /Users/sristiraj/Downloads/sristiraj/venv/lib/python3.10/site-packages (from ipython>=7.23.1->ipykernel) (5.1.1)\n",
      "Requirement already satisfied: jedi>=0.16 in /Users/sristiraj/Downloads/sristiraj/venv/lib/python3.10/site-packages (from ipython>=7.23.1->ipykernel) (0.19.1)\n",
      "Requirement already satisfied: prompt-toolkit<3.1.0,>=3.0.41 in /Users/sristiraj/Downloads/sristiraj/venv/lib/python3.10/site-packages (from ipython>=7.23.1->ipykernel) (3.0.45)\n",
      "Requirement already satisfied: pygments>=2.4.0 in /Users/sristiraj/Downloads/sristiraj/venv/lib/python3.10/site-packages (from ipython>=7.23.1->ipykernel) (2.18.0)\n",
      "Requirement already satisfied: stack-data in /Users/sristiraj/Downloads/sristiraj/venv/lib/python3.10/site-packages (from ipython>=7.23.1->ipykernel) (0.6.3)\n",
      "Requirement already satisfied: exceptiongroup in /Users/sristiraj/Downloads/sristiraj/venv/lib/python3.10/site-packages (from ipython>=7.23.1->ipykernel) (1.2.1)\n",
      "Requirement already satisfied: typing-extensions>=4.6 in /Users/sristiraj/Downloads/sristiraj/venv/lib/python3.10/site-packages (from ipython>=7.23.1->ipykernel) (4.12.0)\n",
      "Requirement already satisfied: pexpect>4.3 in /Users/sristiraj/Downloads/sristiraj/venv/lib/python3.10/site-packages (from ipython>=7.23.1->ipykernel) (4.9.0)\n",
      "Requirement already satisfied: python-dateutil>=2.8.2 in /Users/sristiraj/Downloads/sristiraj/venv/lib/python3.10/site-packages (from jupyter-client>=6.1.12->ipykernel) (2.9.0.post0)\n",
      "Requirement already satisfied: platformdirs>=2.5 in /Users/sristiraj/Downloads/sristiraj/venv/lib/python3.10/site-packages (from jupyter-core!=5.0.*,>=4.12->ipykernel) (4.2.2)\n",
      "Requirement already satisfied: parso<0.9.0,>=0.8.3 in /Users/sristiraj/Downloads/sristiraj/venv/lib/python3.10/site-packages (from jedi>=0.16->ipython>=7.23.1->ipykernel) (0.8.4)\n",
      "Requirement already satisfied: ptyprocess>=0.5 in /Users/sristiraj/Downloads/sristiraj/venv/lib/python3.10/site-packages (from pexpect>4.3->ipython>=7.23.1->ipykernel) (0.7.0)\n",
      "Requirement already satisfied: wcwidth in /Users/sristiraj/Downloads/sristiraj/venv/lib/python3.10/site-packages (from prompt-toolkit<3.1.0,>=3.0.41->ipython>=7.23.1->ipykernel) (0.2.13)\n",
      "Requirement already satisfied: six>=1.5 in /Users/sristiraj/Downloads/sristiraj/venv/lib/python3.10/site-packages (from python-dateutil>=2.8.2->jupyter-client>=6.1.12->ipykernel) (1.16.0)\n",
      "Requirement already satisfied: executing>=1.2.0 in /Users/sristiraj/Downloads/sristiraj/venv/lib/python3.10/site-packages (from stack-data->ipython>=7.23.1->ipykernel) (2.0.1)\n",
      "Requirement already satisfied: asttokens>=2.1.0 in /Users/sristiraj/Downloads/sristiraj/venv/lib/python3.10/site-packages (from stack-data->ipython>=7.23.1->ipykernel) (2.4.1)\n",
      "Requirement already satisfied: pure-eval in /Users/sristiraj/Downloads/sristiraj/venv/lib/python3.10/site-packages (from stack-data->ipython>=7.23.1->ipykernel) (0.2.2)\n"
     ]
    },
    {
     "name": "stderr",
     "output_type": "stream",
     "text": [
      "5971.88s - pydevd: Sending message related to process being replaced timed-out after 5 seconds\n"
     ]
    },
    {
     "name": "stdout",
     "output_type": "stream",
     "text": [
      "Collecting pandas\n",
      "  Downloading pandas-2.2.2-cp310-cp310-macosx_11_0_arm64.whl.metadata (19 kB)\n",
      "Collecting numpy>=1.22.4 (from pandas)\n",
      "  Using cached numpy-1.26.4-cp310-cp310-macosx_11_0_arm64.whl.metadata (61 kB)\n",
      "Requirement already satisfied: python-dateutil>=2.8.2 in /Users/sristiraj/Downloads/sristiraj/venv/lib/python3.10/site-packages (from pandas) (2.9.0.post0)\n",
      "Collecting pytz>=2020.1 (from pandas)\n",
      "  Using cached pytz-2024.1-py2.py3-none-any.whl.metadata (22 kB)\n",
      "Collecting tzdata>=2022.7 (from pandas)\n",
      "  Using cached tzdata-2024.1-py2.py3-none-any.whl.metadata (1.4 kB)\n",
      "Requirement already satisfied: six>=1.5 in /Users/sristiraj/Downloads/sristiraj/venv/lib/python3.10/site-packages (from python-dateutil>=2.8.2->pandas) (1.16.0)\n",
      "Downloading pandas-2.2.2-cp310-cp310-macosx_11_0_arm64.whl (11.3 MB)\n",
      "\u001b[2K   \u001b[90m━━━━━━━━━━━━━━━━━━━━━━━━━━━━━━━━━━━━━━━━\u001b[0m \u001b[32m11.3/11.3 MB\u001b[0m \u001b[31m6.1 MB/s\u001b[0m eta \u001b[36m0:00:00\u001b[0m00:01\u001b[0m00:01\u001b[0m\n",
      "\u001b[?25hUsing cached numpy-1.26.4-cp310-cp310-macosx_11_0_arm64.whl (14.0 MB)\n",
      "Using cached pytz-2024.1-py2.py3-none-any.whl (505 kB)\n",
      "Using cached tzdata-2024.1-py2.py3-none-any.whl (345 kB)\n",
      "Installing collected packages: pytz, tzdata, numpy, pandas\n",
      "Successfully installed numpy-1.26.4 pandas-2.2.2 pytz-2024.1 tzdata-2024.1\n"
     ]
    }
   ],
   "source": [
    "!pip install duckdb\n",
    "!pip install ipykernel\n",
    "!pip install pandas"
   ]
  },
  {
   "cell_type": "markdown",
   "metadata": {},
   "source": [
    "**Introduction**\n",
    "\n",
    "Gaps and Island problem is a classic problem of finding missing values AKA gaps or islands in a sequence of values. For cases, like with finding period of inactivity between certail interval by an employee is a gaps problem while if the data reporting is done at a certain interval and find period of activity across multiple periods is an island problem. For eg: in a table with employee name, floor number the employee has worked on and the start and end time when he worked on the floor"
   ]
  },
  {
   "cell_type": "markdown",
   "metadata": {
    "vscode": {
     "languageId": "html"
    }
   },
   "source": [
    "<table>\n",
    "    <tr>\n",
    "    <b>\n",
    "        <td>name</td>\n",
    "        <td>floor_number</td>\n",
    "        <td>start_time</td>\n",
    "        <td>end_time</td>\n",
    "    </b>\n",
    "    </tr>\n",
    "    <tr>\n",
    "        <td>Mark</td>\n",
    "        <td>1</td>\n",
    "        <td>31-May-2024 11:56:00</td>\n",
    "        <td>31-May-2024 15:21:00</td>\n",
    "    </tr>\n",
    "    <tr>\n",
    "        <td>Mark</td>\n",
    "        <td>1</td>\n",
    "        <td>31-May-2024 13:26:00</td>\n",
    "        <td>31-May-2024 16:12:00</td>\n",
    "    </tr>\n",
    "    <tr>\n",
    "        <td>Mark</td>\n",
    "        <td>1</td>\n",
    "        <td>31-May-2024 17:01:00</td>\n",
    "        <td>31-May-2024 17:31:00</td>\n",
    "    </tr>\n",
    "    <tr>\n",
    "        <td>Ashok</td>\n",
    "        <td>1</td>\n",
    "        <td>31-May-2024 10:32:00</td>\n",
    "        <td>31-May-2024 11:28:00</td>\n",
    "    </tr>\n",
    "    <tr>\n",
    "        <td>Ashok</td>\n",
    "        <td>1</td>\n",
    "        <td>31-May-2024 12:29:00</td>\n",
    "        <td>31-May-2024 14:21:00</td>\n",
    "    </tr>\n",
    "</table>\n"
   ]
  },
  {
   "cell_type": "markdown",
   "metadata": {},
   "source": [
    "In the above example, this is an island problem of finding continuous periods where an employee kept working. As the inputs or \n",
    "rows in the above table has a start and end time for each employee recorded at random intervals with some start and end time \n",
    "either overlapping i.e, end time of preceeding record for the employee is greater than start time of next record for the same \n",
    "employee. Or for some employee, the end time of preceeding record can be same as start time of next record or the end time and \n",
    "start time may not overlap at all.\n",
    "\n",
    "In such cases, if the ask is the find the duration an employee has kept working on recorded floors, simply subtracting the end\n",
    "time with the start time of each record may not give correct result and we may be counting the time multiple times if there is an\n",
    "overlap between 2 records. In such scenarios, problem of finding actual duration spent can be easily solved using using the \n",
    "island problem approach."
   ]
  },
  {
   "cell_type": "markdown",
   "metadata": {},
   "source": [
    "We will initialize the duckdb database for inserting sample data as shown above."
   ]
  },
  {
   "cell_type": "code",
   "execution_count": 10,
   "metadata": {},
   "outputs": [],
   "source": [
    "import pandas as pd\n",
    "\n",
    "employee_work = pd.DataFrame.from_dict(\n",
    "    {\"name\":[\"Mark\",\"Mark\",\"Mark\",\"Ashok\",\"Ashok\"],\n",
    "    \"floor_number\":[1,1,1,1,1],\n",
    "    \"start_time\":[\"2024-05-31 11:56:00\",\"2024-05-31 13:26:00\",\"2024-05-31 17:01:00\",\"2024-05-31 10:32:00\",\"2024-05-31 12:29:00\"],\n",
    "    \"end_time\":[\"2024-05-31 15:21:00\",\"2024-05-31 16:12:00\",\"2024-05-31 17:31:00\",\"2024-05-31 11:28:00\",\"2024-05-31 14:21:00\"]\n",
    "    })"
   ]
  },
  {
   "cell_type": "code",
   "execution_count": 12,
   "metadata": {},
   "outputs": [
    {
     "data": {
      "text/plain": [
       "┌─────────┬──────────────┬─────────────────────┬─────────────────────┐\n",
       "│  name   │ floor_number │     start_time      │      end_time       │\n",
       "│ varchar │    int64     │       varchar       │       varchar       │\n",
       "├─────────┼──────────────┼─────────────────────┼─────────────────────┤\n",
       "│ Mark    │            1 │ 2024-05-31 11:56:00 │ 2024-05-31 15:21:00 │\n",
       "│ Mark    │            1 │ 2024-05-31 13:26:00 │ 2024-05-31 16:12:00 │\n",
       "│ Mark    │            1 │ 2024-05-31 17:01:00 │ 2024-05-31 17:31:00 │\n",
       "│ Ashok   │            1 │ 2024-05-31 10:32:00 │ 2024-05-31 11:28:00 │\n",
       "│ Ashok   │            1 │ 2024-05-31 12:29:00 │ 2024-05-31 14:21:00 │\n",
       "└─────────┴──────────────┴─────────────────────┴─────────────────────┘"
      ]
     },
     "execution_count": 12,
     "metadata": {},
     "output_type": "execute_result"
    }
   ],
   "source": [
    "import duckdb\n",
    "duckdb.sql(\"select * from employee_work\")"
   ]
  },
  {
   "cell_type": "markdown",
   "metadata": {},
   "source": [
    "**Solution**\n",
    "\n",
    "To solve an island problem, we can simply use SQL to get the final solution. First step in finding a solution is to get the previous end time next to start and end time in each record. We can use window functions in SQL to get this using something like below query."
   ]
  },
  {
   "cell_type": "markdown",
   "metadata": {},
   "source": []
  },
  {
   "cell_type": "code",
   "execution_count": null,
   "metadata": {
    "vscode": {
     "languageId": "sql"
    }
   },
   "outputs": [],
   "source": [
    "SELECT\n",
    "name, \n",
    "floor_number,\n",
    "start_time,\n",
    "end_time,\n",
    "ROW_NUMBER () OVER (ORDER BY name, start_time, end_time) rn,\n",
    "max(end_time) over(partition by name, floor_number order by start_time, end_time ROWS BETWEEN UNBOUNDED PRECEDING AND 1 PRECEDING) prev_end_time\n",
    "from \n",
    "employee_work"
   ]
  },
  {
   "cell_type": "markdown",
   "metadata": {},
   "source": [
    "Run the above query using duck db:"
   ]
  },
  {
   "cell_type": "code",
   "execution_count": 18,
   "metadata": {},
   "outputs": [
    {
     "data": {
      "text/plain": [
       "┌─────────┬──────────────┬─────────────────────┬─────────────────────┬───────┬─────────────────────┐\n",
       "│  name   │ floor_number │     start_time      │      end_time       │  rn   │    prev_end_time    │\n",
       "│ varchar │    int64     │       varchar       │       varchar       │ int64 │       varchar       │\n",
       "├─────────┼──────────────┼─────────────────────┼─────────────────────┼───────┼─────────────────────┤\n",
       "│ Mark    │            1 │ 2024-05-31 11:56:00 │ 2024-05-31 15:21:00 │     3 │ NULL                │\n",
       "│ Mark    │            1 │ 2024-05-31 13:26:00 │ 2024-05-31 16:12:00 │     4 │ 2024-05-31 15:21:00 │\n",
       "│ Mark    │            1 │ 2024-05-31 17:01:00 │ 2024-05-31 17:31:00 │     5 │ 2024-05-31 16:12:00 │\n",
       "│ Ashok   │            1 │ 2024-05-31 10:32:00 │ 2024-05-31 11:28:00 │     1 │ NULL                │\n",
       "│ Ashok   │            1 │ 2024-05-31 12:29:00 │ 2024-05-31 14:21:00 │     2 │ 2024-05-31 11:28:00 │\n",
       "└─────────┴──────────────┴─────────────────────┴─────────────────────┴───────┴─────────────────────┘"
      ]
     },
     "execution_count": 18,
     "metadata": {},
     "output_type": "execute_result"
    }
   ],
   "source": [
    "duckdb.sql('''SELECT\n",
    "name, \n",
    "floor_number,\n",
    "start_time,\n",
    "end_time,\n",
    "ROW_NUMBER () OVER (ORDER BY name, start_time, end_time) rn,\n",
    "max(end_time) over(partition by name, floor_number order by start_time, end_time ROWS BETWEEN UNBOUNDED PRECEDING AND 1 PRECEDING) prev_end_time\n",
    "from \n",
    "employee_work''')"
   ]
  },
  {
   "cell_type": "markdown",
   "metadata": {},
   "source": [
    "The above query finds the previous end time per record for an employee based on all records above current record(UNBOUNDED PRECEDING) up until the record just above the current record (1 PRECEDING). Once we have the previous end time, we can now find if the duration(start and end time) of current records overlaps with previous record and if it overlaps, we can consider the record as part of same island otherwise mark the current record as new island. Marking island can be as well done using integer values with island0 as 0, island1 as 1. This in SQL can again be achieved using window function."
   ]
  },
  {
   "cell_type": "code",
   "execution_count": null,
   "metadata": {
    "vscode": {
     "languageId": "sql"
    }
   },
   "outputs": [],
   "source": [
    "with ovlap as\n",
    "(SELECT\n",
    "name, \n",
    "floor_number,\n",
    "start_time,\n",
    "end_time,\n",
    "ROW_NUMBER () OVER (ORDER BY name, start_time, end_time) rn,\n",
    "max(end_time) over(partition by name, floor_number order by start_time, end_time ROWS BETWEEN UNBOUNDED PRECEDING AND 1 PRECEDING) prev_end_time\n",
    "from \n",
    "employee_work) \n",
    "----CTE end---\n",
    "SELECT \n",
    "name,\n",
    "floor_number,\n",
    "start_time,\n",
    "end_time,\n",
    "prev_end_time,\n",
    "-- indicates in ordered output by displaying 1 for new island start\n",
    "CASE WHEN start_time <= prev_end_time then 0 ELSE 1 END is_new_island,\n",
    "SUM(CASE WHEN start_time <= prev_end_time then 0 ELSE 1 END) OVER(PARTITION BY name, floor order by rn) island_id\n",
    "FROM\n",
    "ovlap"
   ]
  },
  {
   "cell_type": "markdown",
   "metadata": {},
   "source": [
    "From the above query we get the new island indicator, showing if the record is start of a new island as per the problem it would be new time duration for the employee, on same floor with non overlapping time. Once we have this we can get the min and max duration within an island to find the actual time duration worked by employee on a floor from across multiple overlapping records."
   ]
  },
  {
   "cell_type": "markdown",
   "metadata": {},
   "source": [
    "Running this using duckdb:"
   ]
  },
  {
   "cell_type": "code",
   "execution_count": 20,
   "metadata": {
    "vscode": {
     "languageId": "sql"
    }
   },
   "outputs": [
    {
     "data": {
      "text/plain": [
       "┌─────────┬──────────────┬─────────────────────┬─────────────────────┬─────────────────────┬───────────────┬───────────┐\n",
       "│  name   │ floor_number │     start_time      │      end_time       │    prev_end_time    │ is_new_island │ island_id │\n",
       "│ varchar │    int64     │       varchar       │       varchar       │       varchar       │     int32     │  int128   │\n",
       "├─────────┼──────────────┼─────────────────────┼─────────────────────┼─────────────────────┼───────────────┼───────────┤\n",
       "│ Mark    │            1 │ 2024-05-31 11:56:00 │ 2024-05-31 15:21:00 │ NULL                │             1 │         1 │\n",
       "│ Mark    │            1 │ 2024-05-31 13:26:00 │ 2024-05-31 16:12:00 │ 2024-05-31 15:21:00 │             0 │         1 │\n",
       "│ Mark    │            1 │ 2024-05-31 17:01:00 │ 2024-05-31 17:31:00 │ 2024-05-31 16:12:00 │             1 │         2 │\n",
       "│ Ashok   │            1 │ 2024-05-31 10:32:00 │ 2024-05-31 11:28:00 │ NULL                │             1 │         1 │\n",
       "│ Ashok   │            1 │ 2024-05-31 12:29:00 │ 2024-05-31 14:21:00 │ 2024-05-31 11:28:00 │             1 │         2 │\n",
       "└─────────┴──────────────┴─────────────────────┴─────────────────────┴─────────────────────┴───────────────┴───────────┘"
      ]
     },
     "execution_count": 20,
     "metadata": {},
     "output_type": "execute_result"
    }
   ],
   "source": [
    "duckdb.sql('''with ovlap as\n",
    "(SELECT\n",
    "name, \n",
    "floor_number,\n",
    "start_time,\n",
    "end_time,\n",
    "ROW_NUMBER () OVER (ORDER BY name, start_time, end_time) rn,\n",
    "max(end_time) over(partition by name, floor_number order by start_time, end_time ROWS BETWEEN UNBOUNDED PRECEDING AND 1 PRECEDING) prev_end_time\n",
    "from \n",
    "employee_work) \n",
    "----CTE end---\n",
    "SELECT \n",
    "name,\n",
    "floor_number,\n",
    "start_time,\n",
    "end_time,\n",
    "prev_end_time,\n",
    "-- indicates in ordered output by displaying 1 for new island start\n",
    "CASE WHEN start_time <= prev_end_time then 0 ELSE 1 END is_new_island,\n",
    "SUM(CASE WHEN start_time <= prev_end_time then 0 ELSE 1 END) OVER(PARTITION BY name, floor_number order by rn) island_id\n",
    "FROM\n",
    "ovlap''')"
   ]
  },
  {
   "cell_type": "code",
   "execution_count": null,
   "metadata": {
    "vscode": {
     "languageId": "sql"
    }
   },
   "outputs": [],
   "source": [
    "with ovlap as\n",
    "(SELECT\n",
    "name, \n",
    "floor_number,\n",
    "start_time,\n",
    "end_time,\n",
    "ROW_NUMBER () OVER (ORDER BY name, start_time, end_time) rn,\n",
    "max(end_time) over(partition by name, floor_number order by start_time, end_time ROWS BETWEEN UNBOUNDED PRECEDING AND 1 PRECEDING) prev_end_time\n",
    "from \n",
    "employee_work) \n",
    "----CTE1 end---\n",
    "islands as (\n",
    "SELECT \n",
    "name,\n",
    "floor_number,\n",
    "start_time,\n",
    "end_time,\n",
    "prev_end_time,\n",
    "-- indicates in ordered output by displaying 1 for new island start\n",
    "CASE WHEN start_time <= prev_end_time then 0 ELSE 1 END is_new_island,\n",
    "SUM(CASE WHEN start_time <= prev_end_time then 0 ELSE 1 END) OVER(PARTITION BY name, floor order by rn) island_id\n",
    "FROM\n",
    "ovlap)\n",
    "---CTE end---\n",
    "SELECT \n",
    "name, \n",
    "floor_number,\n",
    "min(start_time) actual_start_time,\n",
    "max(end_time) actual_end_time\n",
    "FROM \n",
    "islands\n",
    "group by \n",
    "name,\n",
    "floor_number,\n",
    "island_id\n"
   ]
  },
  {
   "cell_type": "markdown",
   "metadata": {},
   "source": [
    "Finally this query gives the result with actual start and end time duration employee has worked on a floor with non overlapping durations as separate records. Subtracting actual end and start time on each row would give actual work duration."
   ]
  },
  {
   "cell_type": "code",
   "execution_count": 24,
   "metadata": {
    "vscode": {
     "languageId": "sql"
    }
   },
   "outputs": [
    {
     "data": {
      "text/plain": [
       "┌─────────┬──────────────┬─────────────────────┬─────────────────────┐\n",
       "│  name   │ floor_number │  actual_start_time  │   actual_end_time   │\n",
       "│ varchar │    int64     │       varchar       │       varchar       │\n",
       "├─────────┼──────────────┼─────────────────────┼─────────────────────┤\n",
       "│ Ashok   │            1 │ 2024-05-31 10:32:00 │ 2024-05-31 11:28:00 │\n",
       "│ Ashok   │            1 │ 2024-05-31 12:29:00 │ 2024-05-31 14:21:00 │\n",
       "│ Mark    │            1 │ 2024-05-31 11:56:00 │ 2024-05-31 16:12:00 │\n",
       "│ Mark    │            1 │ 2024-05-31 17:01:00 │ 2024-05-31 17:31:00 │\n",
       "└─────────┴──────────────┴─────────────────────┴─────────────────────┘"
      ]
     },
     "execution_count": 24,
     "metadata": {},
     "output_type": "execute_result"
    }
   ],
   "source": [
    "duckdb.sql('''\n",
    "with ovlap as\n",
    "(SELECT\n",
    "name, \n",
    "floor_number,\n",
    "start_time,\n",
    "end_time,\n",
    "ROW_NUMBER () OVER (ORDER BY name, start_time, end_time) rn,\n",
    "max(end_time) over(partition by name, floor_number order by start_time, end_time ROWS BETWEEN UNBOUNDED PRECEDING AND 1 PRECEDING) prev_end_time\n",
    "from \n",
    "employee_work) ,\n",
    "----CTE1 end---\n",
    "islands as (\n",
    "SELECT \n",
    "name,\n",
    "floor_number,\n",
    "start_time,\n",
    "end_time,\n",
    "prev_end_time,\n",
    "-- indicates in ordered output by displaying 1 for new island start\n",
    "CASE WHEN start_time <= prev_end_time then 0 ELSE 1 END is_new_island,\n",
    "SUM(CASE WHEN start_time <= prev_end_time then 0 ELSE 1 END) OVER(PARTITION BY name, floor_number order by rn) island_id\n",
    "FROM\n",
    "ovlap)\n",
    "---CTE end---\n",
    "SELECT \n",
    "name, \n",
    "floor_number,\n",
    "min(start_time) actual_start_time,\n",
    "max(end_time) actual_end_time\n",
    "FROM \n",
    "islands\n",
    "group by \n",
    "name,\n",
    "floor_number,\n",
    "island_id\n",
    "order by name, floor_number, actual_start_time, actual_end_time\n",
    "''')"
   ]
  }
 ],
 "metadata": {
  "kernelspec": {
   "display_name": "venv",
   "language": "python",
   "name": "python3"
  },
  "language_info": {
   "codemirror_mode": {
    "name": "ipython",
    "version": 3
   },
   "file_extension": ".py",
   "mimetype": "text/x-python",
   "name": "python",
   "nbconvert_exporter": "python",
   "pygments_lexer": "ipython3",
   "version": "3.10.10"
  }
 },
 "nbformat": 4,
 "nbformat_minor": 2
}
